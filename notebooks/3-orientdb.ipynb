{
 "cells": [
  {
   "cell_type": "markdown",
   "metadata": {},
   "source": [
    "# OrientDB tutorial"
   ]
  },
  {
   "cell_type": "markdown",
   "metadata": {},
   "source": [
    "## Prerequisites"
   ]
  },
  {
   "cell_type": "markdown",
   "metadata": {},
   "source": [
    "### Documentation\n",
    "\n",
    "You will find all documentation for :\n",
    "* [OrientDB SQL reference](http://www.orientdb.com/docs/last/SQL-Functions.html)\n",
    "* [Orientdb python client](http://orientdb.com/docs/last/PyOrient-Client.html#working-with-the-client)"
   ]
  },
  {
   "cell_type": "markdown",
   "metadata": {},
   "source": [
    "## Import libraries"
   ]
  },
  {
   "cell_type": "code",
   "execution_count": 2,
   "metadata": {},
   "outputs": [
    {
     "name": "stdout",
     "output_type": "stream",
     "text": [
      "Collecting pyorient\n",
      "  Downloading pyorient-1.5.5.tar.gz (68 kB)\n",
      "     -------------------------------------- 69.0/69.0 kB 469.9 kB/s eta 0:00:00\n",
      "  Preparing metadata (setup.py): started\n",
      "  Preparing metadata (setup.py): finished with status 'done'\n",
      "Building wheels for collected packages: pyorient\n",
      "  Building wheel for pyorient (setup.py): started\n",
      "  Building wheel for pyorient (setup.py): finished with status 'done'\n",
      "  Created wheel for pyorient: filename=pyorient-1.5.5-py3-none-any.whl size=79037 sha256=68451a35dcc96ff0acfea380c391670a5f02e1fd4ffa0e0d561e2f8ecb2a874e\n",
      "  Stored in directory: c:\\users\\fkpamegan\\appdata\\local\\pip\\cache\\wheels\\b9\\34\\12\\9c3b860fddae6212a2677cd6cc4dd25ead9943b80296d22098\n",
      "Successfully built pyorient\n",
      "Installing collected packages: pyorient\n",
      "Successfully installed pyorient-1.5.5\n"
     ]
    }
   ],
   "source": [
    "!pip install pyorient"
   ]
  },
  {
   "cell_type": "code",
   "execution_count": 3,
   "metadata": {},
   "outputs": [],
   "source": [
    "import pyorient"
   ]
  },
  {
   "cell_type": "code",
   "execution_count": 4,
   "metadata": {},
   "outputs": [],
   "source": [
    "ROOT_PASSWORD = \"root\"\n",
    "client = pyorient.OrientDB(\"localhost\", 2424)\n",
    "session_id = client.connect(\"root\", ROOT_PASSWORD)"
   ]
  },
  {
   "cell_type": "code",
   "execution_count": 5,
   "metadata": {},
   "outputs": [
    {
     "name": "stdout",
     "output_type": "stream",
     "text": [
      "{{'databases': {}}}\n"
     ]
    }
   ],
   "source": [
    "print(client.db_list())"
   ]
  },
  {
   "cell_type": "markdown",
   "metadata": {},
   "source": [
    "## I. Quick start"
   ]
  },
  {
   "cell_type": "markdown",
   "metadata": {},
   "source": [
    "### Creating the database"
   ]
  },
  {
   "cell_type": "markdown",
   "metadata": {},
   "source": [
    "**Q:** Create a database `gods` as a `GRAPH_DATABASE` in `MEMORY_STORAGE_TYPE`. \n",
    "\n",
    "We will use it to store relationships between Greek deities."
   ]
  },
  {
   "cell_type": "code",
   "execution_count": null,
   "metadata": {},
   "outputs": [],
   "source": [
    "client.db_create(\"gods\", pyorient.DB_TYPE_GRAPH, pyorient.STORAGE_TYPE_MEMORY)"
   ]
  },
  {
   "cell_type": "markdown",
   "metadata": {},
   "source": [
    "**Q:** Connect your pyorient client to the `gods` database."
   ]
  },
  {
   "cell_type": "code",
   "execution_count": 9,
   "metadata": {},
   "outputs": [
    {
     "data": {
      "text/plain": [
       "[<pyorient.otypes.OrientCluster at 0x1f9c10365c8>,\n",
       " <pyorient.otypes.OrientCluster at 0x1f9bc76c308>,\n",
       " <pyorient.otypes.OrientCluster at 0x1f9c1036808>,\n",
       " <pyorient.otypes.OrientCluster at 0x1f9c1036108>,\n",
       " <pyorient.otypes.OrientCluster at 0x1f9c10368c8>,\n",
       " <pyorient.otypes.OrientCluster at 0x1f9c1036948>,\n",
       " <pyorient.otypes.OrientCluster at 0x1f9c1036988>,\n",
       " <pyorient.otypes.OrientCluster at 0x1f9c10369c8>,\n",
       " <pyorient.otypes.OrientCluster at 0x1f9c1036a08>,\n",
       " <pyorient.otypes.OrientCluster at 0x1f9c1036908>,\n",
       " <pyorient.otypes.OrientCluster at 0x1f9c1036a48>,\n",
       " <pyorient.otypes.OrientCluster at 0x1f9c1036a88>,\n",
       " <pyorient.otypes.OrientCluster at 0x1f9c1036ac8>,\n",
       " <pyorient.otypes.OrientCluster at 0x1f9c1036b08>,\n",
       " <pyorient.otypes.OrientCluster at 0x1f9c1036b48>,\n",
       " <pyorient.otypes.OrientCluster at 0x1f9c1036b88>,\n",
       " <pyorient.otypes.OrientCluster at 0x1f9c1036bc8>,\n",
       " <pyorient.otypes.OrientCluster at 0x1f9c1036c08>,\n",
       " <pyorient.otypes.OrientCluster at 0x1f9c1036c48>,\n",
       " <pyorient.otypes.OrientCluster at 0x1f9c1036c88>,\n",
       " <pyorient.otypes.OrientCluster at 0x1f9c1036cc8>,\n",
       " <pyorient.otypes.OrientCluster at 0x1f9c1036d08>,\n",
       " <pyorient.otypes.OrientCluster at 0x1f9c1036d48>,\n",
       " <pyorient.otypes.OrientCluster at 0x1f9c1036d88>,\n",
       " <pyorient.otypes.OrientCluster at 0x1f9c1036dc8>,\n",
       " <pyorient.otypes.OrientCluster at 0x1f9c1036e08>,\n",
       " <pyorient.otypes.OrientCluster at 0x1f9c1036e48>,\n",
       " <pyorient.otypes.OrientCluster at 0x1f9c1036e88>,\n",
       " <pyorient.otypes.OrientCluster at 0x1f9c1036ec8>,\n",
       " <pyorient.otypes.OrientCluster at 0x1f9c1036f08>,\n",
       " <pyorient.otypes.OrientCluster at 0x1f9c1036f48>,\n",
       " <pyorient.otypes.OrientCluster at 0x1f9c1036f88>,\n",
       " <pyorient.otypes.OrientCluster at 0x1f9c1036fc8>]"
      ]
     },
     "execution_count": 9,
     "metadata": {},
     "output_type": "execute_result"
    }
   ],
   "source": [
    "# Connect your pyorient client to the `gods` database.\n",
    "client.db_open(\"gods\", \"root\", ROOT_PASSWORD)"
   ]
  },
  {
   "cell_type": "markdown",
   "metadata": {},
   "source": [
    "**Q:** You should now be able to launch OrientDB queries through the Python client with the [command()](http://orientdb.com/docs/last/PyOrient-Client-Command.html) function. \n",
    "\n",
    "You should think of OrientDB as a Graph-Document database for the following questions. Each vertex and edge will contain information on it inside a JSON document.\n",
    "\n",
    "Create a new Vertex with content `{name: 'Zeus', symbol: 'thunder'}`. The [CREATE VERTEX : Create a vertex using JSON content](http://orientdb.com/docs/last/SQL-Create-Vertex.html) doc page should help you."
   ]
  },
  {
   "cell_type": "code",
   "execution_count": 11,
   "metadata": {},
   "outputs": [
    {
     "data": {
      "text/plain": [
       "[11]"
      ]
     },
     "execution_count": 11,
     "metadata": {},
     "output_type": "execute_result"
    }
   ],
   "source": [
    "# Create a new class called `God`.\n",
    "client.command(\"create class God extends V\")"
   ]
  },
  {
   "cell_type": "code",
   "execution_count": 12,
   "metadata": {},
   "outputs": [],
   "source": [
    "# Create a new Vertex with content `{name: 'Zeus', symbol: 'thunder'}`\n",
    "zeus = client.command(\"CREATE VERTEX God SET name = 'Zeus', symbol = 'thunder'\")[0]"
   ]
  },
  {
   "cell_type": "markdown",
   "metadata": {},
   "source": [
    "You have created a VERTEX in the previous question. The VERTEX is a [class](https://orientdb.com/docs/last/Tutorial-Classes.html) of OrientDB which defines a record that can be linked to others through EDGE instances.\n",
    "\n",
    "You can find all VERTEX created in the database with a SQL command on the `V` table, like `SELECT * FROM V`. \n",
    "\n",
    "**Q:** Print all current vertices in `gods`, it should only have `Zeus` though for now."
   ]
  },
  {
   "cell_type": "code",
   "execution_count": 15,
   "metadata": {},
   "outputs": [
    {
     "name": "stdout",
     "output_type": "stream",
     "text": [
      "[<pyorient.otypes.OrientRecord object at 0x000001F9C104CF48>]\n"
     ]
    }
   ],
   "source": [
    "# Print all current vertices in `gods`\n",
    "print(client.command(\"SELECT FROM God\"))\n"
   ]
  },
  {
   "cell_type": "markdown",
   "metadata": {},
   "source": [
    "**Q:** Create new vertices with content : \n",
    "```\n",
    "{name:Héra, symbol:tiara}\n",
    "{name:Poséidon, symbol:trident}\n",
    "{name:Athena, symbol:helmet}\n",
    "{name:Arès, symbol:weapons} \n",
    "```"
   ]
  },
  {
   "cell_type": "code",
   "execution_count": 16,
   "metadata": {},
   "outputs": [],
   "source": [
    "hera = client.command(\"CREATE VERTEX God SET name = 'Héra', symbol = 'tiara'\")[0]\n",
    "poseidon = client.command(\"CREATE VERTEX God SET name = 'Poséidon', symbol = 'trident'\")[0]\n",
    "athena = client.command(\"CREATE VERTEX God SET name = 'Athena', symbol = 'helmet'\")[0]\n",
    "ares = client.command(\"CREATE VERTEX God SET name = 'Arès', symbol = 'weapons'\")[0]"
   ]
  },
  {
   "cell_type": "markdown",
   "metadata": {},
   "source": [
    "**Q:** Display all vertices with name = `Arès`"
   ]
  },
  {
   "cell_type": "code",
   "execution_count": 18,
   "metadata": {},
   "outputs": [
    {
     "name": "stdout",
     "output_type": "stream",
     "text": [
      "[<pyorient.otypes.OrientRecord object at 0x000001F9C1057088>]\n"
     ]
    }
   ],
   "source": [
    "# Display all vertices with name = `Arès`\n",
    "print(client.command(\"SELECT FROM God WHERE name = 'Arès'\"))"
   ]
  },
  {
   "cell_type": "markdown",
   "metadata": {},
   "source": [
    "**Q:** Create an EDGE from `Zeus` to `Poséidon` with the content `{kind: 'sibling'}"
   ]
  },
  {
   "cell_type": "code",
   "execution_count": 19,
   "metadata": {},
   "outputs": [
    {
     "data": {
      "text/plain": [
       "[<pyorient.otypes.OrientRecord at 0x1f9c10574c8>]"
      ]
     },
     "execution_count": 19,
     "metadata": {},
     "output_type": "execute_result"
    }
   ],
   "source": [
    "# Create an EDGE from `Zeus` to `Poséidon` with the content `{kind: 'sibling'}\n",
    "client.command(\"CREATE EDGE Sibling FROM (SELECT FROM God WHERE name = 'Zeus') TO (SELECT FROM God WHERE name = 'Poséidon') SET kind = 'sibling'\")"
   ]
  },
  {
   "cell_type": "markdown",
   "metadata": {},
   "source": [
    "**Q:** Redisplay all vertices, discuss."
   ]
  },
  {
   "cell_type": "code",
   "execution_count": 20,
   "metadata": {},
   "outputs": [
    {
     "name": "stdout",
     "output_type": "stream",
     "text": [
      "[<pyorient.otypes.OrientRecord object at 0x000001F9C107A608>, <pyorient.otypes.OrientRecord object at 0x000001F9C1074208>, <pyorient.otypes.OrientRecord object at 0x000001F9C1074148>, <pyorient.otypes.OrientRecord object at 0x000001F9C1074588>, <pyorient.otypes.OrientRecord object at 0x000001F9C1074748>]\n"
     ]
    }
   ],
   "source": [
    "print(client.command(\"SELECT FROM God\"))\n"
   ]
  },
  {
   "cell_type": "markdown",
   "metadata": {},
   "source": [
    "**Q:** Display all edges. They are contained in the class `E`"
   ]
  },
  {
   "cell_type": "code",
   "execution_count": 21,
   "metadata": {},
   "outputs": [
    {
     "name": "stdout",
     "output_type": "stream",
     "text": [
      "[<pyorient.otypes.OrientRecord object at 0x000001F9C107ADC8>]\n"
     ]
    }
   ],
   "source": [
    "# Display all edges. They are contained in the class `E`\n",
    "print(client.command(\"SELECT FROM E\"))"
   ]
  },
  {
   "cell_type": "markdown",
   "metadata": {},
   "source": [
    "Two fields on vertices have appeared, containing the outgoing (out_) and incoming (in_) links.\n",
    "\n",
    "At the edge level, two fields point to the original (out) and destination (in) vertices.\n",
    "\n",
    "**Q:** Lets create some more edges :\n",
    "\n",
    "* Zeus > Héra (sibling)\n",
    "* Zeus > Arès (father)\n",
    "* Zeus > Athena (father)\n",
    "* Héra > Arès (mother)\n",
    "* Héra > Zeus (sibling)\n",
    "* Poséidon > Zeus (sibling)\n",
    "\n",
    "_Hint 1 :_ check [the CREATE EDGE doc page](http://orientdb.com/docs/last/SQL-Create-Edge.html) to find an example for creating edges on vertices using subqueries so you can run queries to fetch the vertices before creating an edge in between.\n",
    "\n",
    "_Hint 2 :_ after you have found the command to create edges between vertices with sub-queries, you should be well-versed enough in Python to create a list of all edges in the question, and loop the command on each element of the list to create all edges in one go =)"
   ]
  },
  {
   "cell_type": "code",
   "execution_count": 22,
   "metadata": {},
   "outputs": [
    {
     "data": {
      "text/plain": [
       "[<pyorient.otypes.OrientRecord at 0x1f9c10361c8>]"
      ]
     },
     "execution_count": 22,
     "metadata": {},
     "output_type": "execute_result"
    }
   ],
   "source": [
    "client.command(\"CREATE EDGE Sibling FROM (SELECT FROM God WHERE name = 'Zeus') TO (SELECT FROM God WHERE name = 'Héra')\")\n",
    "client.command(\"CREATE EDGE Father FROM (SELECT FROM God WHERE name = 'Zeus') TO (SELECT FROM God WHERE name = 'Arès')\")\n",
    "client.command(\"CREATE EDGE Father FROM (SELECT FROM God WHERE name = 'Zeus') TO (SELECT FROM God WHERE name = 'Athena')\")\n",
    "client.command(\"CREATE EDGE Mother FROM (SELECT FROM God WHERE name = 'Héra') TO (SELECT FROM God WHERE name = 'Arès')\")\n",
    "client.command(\"CREATE EDGE Sibling FROM (SELECT FROM God WHERE name = 'Héra') TO (SELECT FROM God WHERE name = 'Zeus')\")\n",
    "client.command(\"CREATE EDGE Sibling FROM (SELECT FROM God WHERE name = 'Poséidon') TO (SELECT FROM God WHERE name = 'Zeus')\")"
   ]
  },
  {
   "cell_type": "markdown",
   "metadata": {},
   "source": [
    "### Looking for data"
   ]
  },
  {
   "cell_type": "markdown",
   "metadata": {},
   "source": [
    "**Q:** Using [out()](http://orientdb.com/docs/last/Tutorial-Working-with-graphs.html#querying-graphs) function, display all vertices connected and outgoing from Zeus.\n",
    "\n",
    "You should use the EXPAND() special function to transform the vertex collection in the result-set by expanding it, making the results more readable."
   ]
  },
  {
   "cell_type": "code",
   "execution_count": 23,
   "metadata": {},
   "outputs": [
    {
     "name": "stdout",
     "output_type": "stream",
     "text": [
      "[<pyorient.otypes.OrientRecord object at 0x000001F9C104CDC8>, <pyorient.otypes.OrientRecord object at 0x000001F9C1098FC8>, <pyorient.otypes.OrientRecord object at 0x000001F9C1090288>, <pyorient.otypes.OrientRecord object at 0x000001F9C1090508>]\n"
     ]
    }
   ],
   "source": [
    "print(client.command(\"SELECT expand(out()) FROM God WHERE name = 'Zeus'\"))"
   ]
  },
  {
   "cell_type": "markdown",
   "metadata": {},
   "source": [
    "**Q:** Display all vertices which got a father (the vertices which are the destination of an arc whose kind attribute is father).\n",
    "\n",
    "_Hint: You can notice that we use the field `in` the arc, and not the function `in()` which applies to vertices._"
   ]
  },
  {
   "cell_type": "code",
   "execution_count": 24,
   "metadata": {},
   "outputs": [
    {
     "name": "stdout",
     "output_type": "stream",
     "text": [
      "[<pyorient.otypes.OrientRecord object at 0x000001F9C105F108>, <pyorient.otypes.OrientRecord object at 0x000001F9C1089648>]\n"
     ]
    }
   ],
   "source": [
    "# Display all vertices which got a father\n",
    "print(client.command(\"SELECT expand(in('Father')) FROM God\"))"
   ]
  },
  {
   "cell_type": "markdown",
   "metadata": {},
   "source": [
    "**Q:** As in SQL, the operator `in` used in a clause `where` allows to restrict the possible values with an embedded query _(where ... in (select ...))_. \n",
    "\n",
    "Display the mothers, by displaying the vertices where an outgoing arc is part of the arcs where kind is a mother."
   ]
  },
  {
   "cell_type": "code",
   "execution_count": 25,
   "metadata": {},
   "outputs": [
    {
     "name": "stdout",
     "output_type": "stream",
     "text": [
      "[<pyorient.otypes.OrientRecord object at 0x000001F9C105F208>]\n"
     ]
    }
   ],
   "source": [
    "# Display the mothers, by displaying the vertices where an outgoing arc is part of the arcs where kind is a mother.\n",
    "print(client.command(\"SELECT expand(out('Mother')) FROM God\"))"
   ]
  },
  {
   "cell_type": "markdown",
   "metadata": {},
   "source": [
    "**Q:** Display the brothers and sisters of Zeus (the destination summits of an arc whose kind is sibling and whose original summit is Zeus)."
   ]
  },
  {
   "cell_type": "code",
   "execution_count": 26,
   "metadata": {},
   "outputs": [
    {
     "name": "stdout",
     "output_type": "stream",
     "text": [
      "[<pyorient.otypes.OrientRecord object at 0x000001F9C1089B48>, <pyorient.otypes.OrientRecord object at 0x000001F9C1089FC8>]\n"
     ]
    }
   ],
   "source": [
    "# Display the brothers and sisters of Zeus (the destination summits of an arc whose kind is sibling and whose original summit is Zeus).\n",
    "print(client.command(\"SELECT expand(out('Sibling')) FROM God WHERE name = 'Zeus'\"))"
   ]
  },
  {
   "cell_type": "markdown",
   "metadata": {},
   "source": [
    "## Modeling a Product Recommendation System"
   ]
  },
  {
   "cell_type": "markdown",
   "metadata": {},
   "source": [
    "You are currently modeling the data of a product recommendation system with OrientDB.\n",
    "\n",
    "The main purpose of such a system is to answer the question \"which products were purchased by their people who purchased product X? »\n",
    "\n",
    "Purchased products have only one name field. They are purchased by people who have a nickname.\n",
    "\n",
    "When a person buys a product, the date of purchase is stored. \n",
    "\n",
    "Instead of working with \"anonymous\" vertices and arcs, you will use classes. The `create class` command allows you to create custom classes.\n",
    "\n",
    "The vertex classes must extend V, the arc classes must extend E."
   ]
  },
  {
   "cell_type": "markdown",
   "metadata": {},
   "source": [
    "**Q:** Create an `eCommerce` database, and the necessary classes to model the system.\n",
    "\n",
    "PS : you can view all classes in the database with :\n",
    "\n",
    "```python\n",
    "for name in client.command(\"SELECT name FROM (SELECT expand(classes) FROM metadata:schema)\"):\n",
    "    print(name)\n",
    "```"
   ]
  },
  {
   "cell_type": "code",
   "execution_count": 27,
   "metadata": {},
   "outputs": [],
   "source": [
    "# create eCommerce db\n",
    "client.db_create(\"eCommerce\", pyorient.DB_TYPE_GRAPH, pyorient.STORAGE_TYPE_MEMORY)"
   ]
  },
  {
   "cell_type": "code",
   "execution_count": 28,
   "metadata": {},
   "outputs": [
    {
     "name": "stdout",
     "output_type": "stream",
     "text": [
      "{{'name': 'E'},'version':0,'rid':'#-2:0'}\n",
      "{{'name': 'ORestricted'},'version':0,'rid':'#-2:1'}\n",
      "{{'name': 'OSequence'},'version':0,'rid':'#-2:2'}\n",
      "{{'name': 'ORole'},'version':0,'rid':'#-2:3'}\n",
      "{{'name': 'OSchedule'},'version':0,'rid':'#-2:4'}\n",
      "{{'name': 'V'},'version':0,'rid':'#-2:5'}\n",
      "{{'name': 'OFunction'},'version':0,'rid':'#-2:6'}\n",
      "{{'name': 'OIdentity'},'version':0,'rid':'#-2:7'}\n",
      "{{'name': 'OTriggered'},'version':0,'rid':'#-2:8'}\n",
      "{{'name': 'OUser'},'version':0,'rid':'#-2:9'}\n"
     ]
    }
   ],
   "source": [
    "for name in client.command(\"SELECT name FROM (SELECT expand(classes) FROM metadata:schema)\"):\n",
    "    print(name)"
   ]
  },
  {
   "cell_type": "markdown",
   "metadata": {},
   "source": [
    "**Q:** Create the following products: `spaghetti`, `bolognese sauce`, `cheese`, `apple`."
   ]
  },
  {
   "cell_type": "code",
   "execution_count": 29,
   "metadata": {},
   "outputs": [
    {
     "data": {
      "text/plain": [
       "[<pyorient.otypes.OrientRecord at 0x1f9c1097308>]"
      ]
     },
     "execution_count": 29,
     "metadata": {},
     "output_type": "execute_result"
    }
   ],
   "source": [
    "# Create the following products: `spaghetti`, `bolognese sauce`, `cheese`, `apple`.\n",
    "client.command(\"CREATE CLASS Product extends V\")\n",
    "client.command(\"CREATE VERTEX Product SET name = 'spaghetti'\")\n",
    "client.command(\"CREATE VERTEX Product SET name = 'bolognese sauce'\")\n",
    "client.command(\"CREATE VERTEX Product SET name = 'cheese'\")\n",
    "client.command(\"CREATE VERTEX Product SET name = 'apple'\")"
   ]
  },
  {
   "cell_type": "markdown",
   "metadata": {},
   "source": [
    "**Q:** Create the following people: `peter`, `meredith`."
   ]
  },
  {
   "cell_type": "code",
   "execution_count": 30,
   "metadata": {},
   "outputs": [
    {
     "data": {
      "text/plain": [
       "[<pyorient.otypes.OrientRecord at 0x1f9c1097ac8>]"
      ]
     },
     "execution_count": 30,
     "metadata": {},
     "output_type": "execute_result"
    }
   ],
   "source": [
    "# Create the following people: `peter`, `meredith`.\n",
    "client.command(\"CREATE CLASS Person extends V\")\n",
    "client.command(\"CREATE VERTEX Person SET name = 'peter'\")\n",
    "client.command(\"CREATE VERTEX Person SET name = 'meredith'\")"
   ]
  },
  {
   "cell_type": "markdown",
   "metadata": {},
   "source": [
    "**Q:** Create the following purchases: \n",
    "- peter > spaghetti + cheese on 20/01/2016 \n",
    "- meredith > cheese + apple + bolognese sauce on 22/01/2016\n",
    "- peter > spaghetti + bolognese sauce on 27/01/2016\n"
   ]
  },
  {
   "cell_type": "code",
   "execution_count": 31,
   "metadata": {},
   "outputs": [
    {
     "data": {
      "text/plain": [
       "[<pyorient.otypes.OrientRecord at 0x1f9c1088548>]"
      ]
     },
     "execution_count": 31,
     "metadata": {},
     "output_type": "execute_result"
    }
   ],
   "source": [
    "\n",
    "# - peter > spaghetti + cheese on 20/01/2016\n",
    "client.command(\"CREATE EDGE Bought FROM (SELECT FROM Person WHERE name = 'peter') TO (SELECT FROM Product WHERE name = 'spaghetti') SET date = '20/01/2016'\")\n",
    "client.command(\"CREATE EDGE Bought FROM (SELECT FROM Person WHERE name = 'peter') TO (SELECT FROM Product WHERE name = 'cheese') SET date = '20/01/2016'\")\n",
    "# - meredith > cheese + apple + bolognese sauce on 22/01/2016\n",
    "client.command(\"CREATE EDGE Bought FROM (SELECT FROM Person WHERE name = 'meredith') TO (SELECT FROM Product WHERE name = 'cheese') SET date = '22/01/2016'\")\n",
    "client.command(\"CREATE EDGE Bought FROM (SELECT FROM Person WHERE name = 'meredith') TO (SELECT FROM Product WHERE name = 'apple') SET date = '22/01/2016'\")\n",
    "client.command(\"CREATE EDGE Bought FROM (SELECT FROM Person WHERE name = 'meredith') TO (SELECT FROM Product WHERE name = 'bolognese sauce') SET date = '22/01/2016'\")\n",
    "# - peter > spaghetti + bolognese sauce on 27/01/2016\n",
    "client.command(\"CREATE EDGE Bought FROM (SELECT FROM Person WHERE name = 'peter') TO (SELECT FROM Product WHERE name = 'spaghetti') SET date = '27/01/2016'\")\n",
    "client.command(\"CREATE EDGE Bought FROM (SELECT FROM Person WHERE name = 'peter') TO (SELECT FROM Product WHERE name = 'bolognese sauce') SET date = '27/01/2016'\")"
   ]
  },
  {
   "cell_type": "markdown",
   "metadata": {},
   "source": [
    "**Q:** Who bought Bolognese sauce?"
   ]
  },
  {
   "cell_type": "code",
   "execution_count": 32,
   "metadata": {},
   "outputs": [
    {
     "name": "stdout",
     "output_type": "stream",
     "text": [
      "[<pyorient.otypes.OrientRecord object at 0x000001F9C1088188>, <pyorient.otypes.OrientRecord object at 0x000001F9C1089F08>]\n"
     ]
    }
   ],
   "source": [
    "print(client.command(\"SELECT expand(in('Bought')) FROM Product WHERE name = 'bolognese sauce'\"))"
   ]
  },
  {
   "cell_type": "markdown",
   "metadata": {},
   "source": [
    "**Q:** It is possible to link the `out` and `in` navigation functions. What products are purchased with Bolognese sauce? "
   ]
  },
  {
   "cell_type": "code",
   "execution_count": 33,
   "metadata": {},
   "outputs": [
    {
     "name": "stdout",
     "output_type": "stream",
     "text": [
      "[]\n"
     ]
    }
   ],
   "source": [
    "#  What products are purchased with Bolognese sauce? link in and out\n",
    "print(client.command(\"SELECT expand(out('Bought')) FROM (SELECT FROM Product WHERE name = 'bolognese sauce')\"))\n",
    "\n"
   ]
  },
  {
   "cell_type": "markdown",
   "metadata": {},
   "source": [
    "## Postquisites"
   ]
  },
  {
   "cell_type": "markdown",
   "metadata": {},
   "source": [
    "Since we create databases in memory, they get destroyed on server shutdown."
   ]
  }
 ],
 "metadata": {
  "kernelspec": {
   "display_name": "nosql",
   "language": "python",
   "name": "python3"
  },
  "language_info": {
   "codemirror_mode": {
    "name": "ipython",
    "version": 3
   },
   "file_extension": ".py",
   "mimetype": "text/x-python",
   "name": "python",
   "nbconvert_exporter": "python",
   "pygments_lexer": "ipython3",
   "version": "3.7.12"
  }
 },
 "nbformat": 4,
 "nbformat_minor": 2
}
