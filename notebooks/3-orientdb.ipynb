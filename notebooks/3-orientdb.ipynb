{
 "cells": [
  {
   "cell_type": "markdown",
   "metadata": {},
   "source": [
    "# OrientDB tutorial"
   ]
  },
  {
   "cell_type": "markdown",
   "metadata": {},
   "source": [
    "## Prerequisites"
   ]
  },
  {
   "cell_type": "markdown",
   "metadata": {},
   "source": [
    "### Documentation\n",
    "\n",
    "You will find all documentation for :\n",
    "* [OrientDB SQL reference](http://www.orientdb.com/docs/last/SQL-Functions.html)\n",
    "* [Orientdb python client](http://orientdb.com/docs/last/PyOrient-Client.html#working-with-the-client)"
   ]
  },
  {
   "cell_type": "markdown",
   "metadata": {},
   "source": [
    "## Import libraries"
   ]
  },
  {
   "cell_type": "code",
   "execution_count": 1,
   "metadata": {},
   "outputs": [],
   "source": [
    "# !pip install pyorient"
   ]
  },
  {
   "cell_type": "code",
   "execution_count": 2,
   "metadata": {},
   "outputs": [],
   "source": [
    "import pyorient"
   ]
  },
  {
   "cell_type": "code",
   "execution_count": 3,
   "metadata": {},
   "outputs": [],
   "source": [
    "ROOT_PASSWORD = \"root\"\n",
    "client = pyorient.OrientDB(\"localhost\", 2424)\n",
    "session_id = client.connect(\"root\", ROOT_PASSWORD)"
   ]
  },
  {
   "cell_type": "code",
   "execution_count": 4,
   "metadata": {},
   "outputs": [
    {
     "name": "stdout",
     "output_type": "stream",
     "text": [
      "{{'databases': {}}}\n"
     ]
    }
   ],
   "source": [
    "print(client.db_list())"
   ]
  },
  {
   "cell_type": "markdown",
   "metadata": {},
   "source": [
    "## I. Quick start"
   ]
  },
  {
   "cell_type": "markdown",
   "metadata": {},
   "source": [
    "### Creating the database"
   ]
  },
  {
   "cell_type": "markdown",
   "metadata": {},
   "source": [
    "**Q:** Create a database `gods` as a `GRAPH_DATABASE` in `MEMORY_STORAGE_TYPE`. \n",
    "\n",
    "We will use it to store relationships between Greek deities."
   ]
  },
  {
   "cell_type": "code",
   "execution_count": 5,
   "metadata": {},
   "outputs": [],
   "source": [
    "client.db_create(\"gods\", pyorient.DB_TYPE_GRAPH, pyorient.STORAGE_TYPE_MEMORY)"
   ]
  },
  {
   "cell_type": "markdown",
   "metadata": {},
   "source": [
    "**Q:** Connect your pyorient client to the `gods` database."
   ]
  },
  {
   "cell_type": "code",
   "execution_count": 6,
   "metadata": {},
   "outputs": [
    {
     "data": {
      "text/plain": [
       "[<pyorient.otypes.OrientCluster at 0x27ed544dac8>,\n",
       " <pyorient.otypes.OrientCluster at 0x27ed4246e48>,\n",
       " <pyorient.otypes.OrientCluster at 0x27ed5461108>,\n",
       " <pyorient.otypes.OrientCluster at 0x27ed5461ac8>,\n",
       " <pyorient.otypes.OrientCluster at 0x27ed5461148>,\n",
       " <pyorient.otypes.OrientCluster at 0x27ed5461a08>,\n",
       " <pyorient.otypes.OrientCluster at 0x27ed5461a48>,\n",
       " <pyorient.otypes.OrientCluster at 0x27ed5461b08>,\n",
       " <pyorient.otypes.OrientCluster at 0x27ed5461b48>,\n",
       " <pyorient.otypes.OrientCluster at 0x27ed5461688>,\n",
       " <pyorient.otypes.OrientCluster at 0x27ed5461b88>,\n",
       " <pyorient.otypes.OrientCluster at 0x27ed5461bc8>,\n",
       " <pyorient.otypes.OrientCluster at 0x27ed5461c08>,\n",
       " <pyorient.otypes.OrientCluster at 0x27ed5461c48>,\n",
       " <pyorient.otypes.OrientCluster at 0x27ed5461c88>,\n",
       " <pyorient.otypes.OrientCluster at 0x27ed5461cc8>,\n",
       " <pyorient.otypes.OrientCluster at 0x27ed5461d08>,\n",
       " <pyorient.otypes.OrientCluster at 0x27ed5461d48>,\n",
       " <pyorient.otypes.OrientCluster at 0x27ed5461d88>,\n",
       " <pyorient.otypes.OrientCluster at 0x27ed5461dc8>,\n",
       " <pyorient.otypes.OrientCluster at 0x27ed5461e08>,\n",
       " <pyorient.otypes.OrientCluster at 0x27ed5461e48>,\n",
       " <pyorient.otypes.OrientCluster at 0x27ed5461e88>,\n",
       " <pyorient.otypes.OrientCluster at 0x27ed5461ec8>,\n",
       " <pyorient.otypes.OrientCluster at 0x27ed5461f08>,\n",
       " <pyorient.otypes.OrientCluster at 0x27ed5461f48>,\n",
       " <pyorient.otypes.OrientCluster at 0x27ed5461f88>,\n",
       " <pyorient.otypes.OrientCluster at 0x27ed5461fc8>,\n",
       " <pyorient.otypes.OrientCluster at 0x27ed5465048>,\n",
       " <pyorient.otypes.OrientCluster at 0x27ed5465088>,\n",
       " <pyorient.otypes.OrientCluster at 0x27ed54650c8>,\n",
       " <pyorient.otypes.OrientCluster at 0x27ed5465108>,\n",
       " <pyorient.otypes.OrientCluster at 0x27ed5465148>]"
      ]
     },
     "execution_count": 6,
     "metadata": {},
     "output_type": "execute_result"
    }
   ],
   "source": [
    "# Connect your pyorient client to the `gods` database.\n",
    "client.db_open(\"gods\", \"root\", ROOT_PASSWORD)"
   ]
  },
  {
   "cell_type": "markdown",
   "metadata": {},
   "source": [
    "**Q:** You should now be able to launch OrientDB queries through the Python client with the [command()](http://orientdb.com/docs/last/PyOrient-Client-Command.html) function. \n",
    "\n",
    "You should think of OrientDB as a Graph-Document database for the following questions. Each vertex and edge will contain information on it inside a JSON document.\n",
    "\n",
    "Create a new Vertex with content `{name: 'Zeus', symbol: 'thunder'}`. The [CREATE VERTEX : Create a vertex using JSON content](http://orientdb.com/docs/last/SQL-Create-Vertex.html) doc page should help you."
   ]
  },
  {
   "cell_type": "code",
   "execution_count": 7,
   "metadata": {},
   "outputs": [
    {
     "data": {
      "text/plain": [
       "[11]"
      ]
     },
     "execution_count": 7,
     "metadata": {},
     "output_type": "execute_result"
    }
   ],
   "source": [
    "client.command(\"create class God extends V\")"
   ]
  },
  {
   "cell_type": "code",
   "execution_count": 8,
   "metadata": {},
   "outputs": [],
   "source": [
    "zeus = client.command(\"CREATE VERTEX God SET name = 'Zeus', symbol = 'thunder'\")[0]"
   ]
  },
  {
   "cell_type": "markdown",
   "metadata": {},
   "source": [
    "You have created a VERTEX in the previous question. The VERTEX is a [class](https://orientdb.com/docs/last/Tutorial-Classes.html) of OrientDB which defines a record that can be linked to others through EDGE instances.\n",
    "\n",
    "You can find all VERTEX created in the database with a SQL command on the `V` table, like `SELECT * FROM V`. \n",
    "\n",
    "**Q:** Print all current vertices in `gods`, it should only have `Zeus` though for now."
   ]
  },
  {
   "cell_type": "code",
   "execution_count": 9,
   "metadata": {},
   "outputs": [
    {
     "name": "stdout",
     "output_type": "stream",
     "text": [
      "{'@God':{'name': 'Zeus', 'symbol': 'thunder'},'version':1,'rid':'#33:0'}\n"
     ]
    }
   ],
   "source": [
    "result = client.command(\"SELECT FROM God\")\n",
    "for record in result:\n",
    "    print(record)\n"
   ]
  },
  {
   "cell_type": "markdown",
   "metadata": {},
   "source": [
    "**Q:** Create new vertices with content : \n",
    "```\n",
    "{name:Héra, symbol:tiara}\n",
    "{name:Poséidon, symbol:trident}\n",
    "{name:Athena, symbol:helmet}\n",
    "{name:Arès, symbol:weapons} \n",
    "```"
   ]
  },
  {
   "cell_type": "code",
   "execution_count": 10,
   "metadata": {},
   "outputs": [],
   "source": [
    "hera = client.command(\"CREATE VERTEX God SET name = 'Héra', symbol = 'tiara'\")[0]\n",
    "poseidon = client.command(\"CREATE VERTEX God SET name = 'Poséidon', symbol = 'trident'\")[0]\n",
    "athena = client.command(\"CREATE VERTEX God SET name = 'Athena', symbol = 'helmet'\")[0]\n",
    "ares = client.command(\"CREATE VERTEX God SET name = 'Arès', symbol = 'weapons'\")[0]"
   ]
  },
  {
   "cell_type": "markdown",
   "metadata": {},
   "source": [
    "**Q:** Display all vertices with name = `Arès`"
   ]
  },
  {
   "cell_type": "code",
   "execution_count": 11,
   "metadata": {},
   "outputs": [
    {
     "name": "stdout",
     "output_type": "stream",
     "text": [
      "{'@God':{'name': 'Arès', 'symbol': 'weapons'},'version':1,'rid':'#37:0'}\n"
     ]
    }
   ],
   "source": [
    "# Display all vertices with name = `Arès`\n",
    "result = client.command(\"SELECT FROM God WHERE name = 'Arès'\")\n",
    "for record in result:\n",
    "    print(record)"
   ]
  },
  {
   "cell_type": "markdown",
   "metadata": {},
   "source": [
    "**Q:** Create an EDGE from `Zeus` to `Poséidon` with the content `{kind: 'sibling'}"
   ]
  },
  {
   "cell_type": "code",
   "execution_count": 12,
   "metadata": {},
   "outputs": [
    {
     "data": {
      "text/plain": [
       "[<pyorient.otypes.OrientRecord at 0x27ed430eb48>]"
      ]
     },
     "execution_count": 12,
     "metadata": {},
     "output_type": "execute_result"
    }
   ],
   "source": [
    "client.command(\"CREATE EDGE Sibling FROM (SELECT FROM God WHERE name = 'Zeus') TO (SELECT FROM God WHERE name = 'Poséidon') SET kind = 'sibling'\")"
   ]
  },
  {
   "cell_type": "markdown",
   "metadata": {},
   "source": [
    "**Q:** Redisplay all vertices, discuss."
   ]
  },
  {
   "cell_type": "code",
   "execution_count": 13,
   "metadata": {},
   "outputs": [
    {
     "name": "stdout",
     "output_type": "stream",
     "text": [
      "{'@God':{'name': 'Zeus', 'symbol': 'thunder', 'out_Sibling': <pyorient.otypes.OrientBinaryObject object at 0x0000027ED548FEC8>},'version':2,'rid':'#33:0'}\n",
      "{'@God':{'name': 'Héra', 'symbol': 'tiara'},'version':1,'rid':'#34:0'}\n",
      "{'@God':{'name': 'Poséidon', 'symbol': 'trident', 'in_Sibling': <pyorient.otypes.OrientBinaryObject object at 0x0000027ED5492288>},'version':2,'rid':'#35:0'}\n",
      "{'@God':{'name': 'Athena', 'symbol': 'helmet'},'version':1,'rid':'#36:0'}\n",
      "{'@God':{'name': 'Arès', 'symbol': 'weapons'},'version':1,'rid':'#37:0'}\n"
     ]
    }
   ],
   "source": [
    "result = client.command(\"SELECT FROM God\")\n",
    "for record in result:\n",
    "    print(record)\n",
    "\n",
    "# I can see all the vertex (including god's name and symbol) and edges (in or out) in the graph"
   ]
  },
  {
   "cell_type": "markdown",
   "metadata": {},
   "source": [
    "**Q:** Display all edges. They are contained in the class `E`"
   ]
  },
  {
   "cell_type": "code",
   "execution_count": 14,
   "metadata": {},
   "outputs": [
    {
     "name": "stdout",
     "output_type": "stream",
     "text": [
      "{'@Sibling':{'kind': 'sibling', 'out': <pyorient.otypes.OrientRecordLink object at 0x0000027ED5492C08>, 'in': <pyorient.otypes.OrientRecordLink object at 0x0000027ED5492D08>},'version':1,'rid':'#45:0'}\n"
     ]
    }
   ],
   "source": [
    "result = client.command(\"SELECT FROM E\")\n",
    "for record in result:\n",
    "    print(record)"
   ]
  },
  {
   "cell_type": "markdown",
   "metadata": {},
   "source": [
    "Two fields on vertices have appeared, containing the outgoing (out_) and incoming (in_) links.\n",
    "\n",
    "At the edge level, two fields point to the original (out) and destination (in) vertices.\n",
    "\n",
    "**Q:** Lets create some more edges :\n",
    "\n",
    "* Zeus > Héra (sibling)\n",
    "* Zeus > Arès (father)\n",
    "* Zeus > Athena (father)\n",
    "* Héra > Arès (mother)\n",
    "* Héra > Zeus (sibling)\n",
    "* Poséidon > Zeus (sibling)\n",
    "\n",
    "_Hint 1 :_ check [the CREATE EDGE doc page](http://orientdb.com/docs/last/SQL-Create-Edge.html) to find an example for creating edges on vertices using subqueries so you can run queries to fetch the vertices before creating an edge in between.\n",
    "\n",
    "_Hint 2 :_ after you have found the command to create edges between vertices with sub-queries, you should be well-versed enough in Python to create a list of all edges in the question, and loop the command on each element of the list to create all edges in one go =)"
   ]
  },
  {
   "cell_type": "code",
   "execution_count": 15,
   "metadata": {},
   "outputs": [
    {
     "data": {
      "text/plain": [
       "'client.command(\"CREATE EDGE Sibling FROM (SELECT FROM God WHERE name = \\'Zeus\\') TO (SELECT FROM God WHERE name = \\'Héra\\')\")\\nclient.command(\"CREATE EDGE Father FROM (SELECT FROM God WHERE name = \\'Zeus\\') TO (SELECT FROM God WHERE name = \\'Arès\\')\")\\nclient.command(\"CREATE EDGE Father FROM (SELECT FROM God WHERE name = \\'Zeus\\') TO (SELECT FROM God WHERE name = \\'Athena\\')\")\\nclient.command(\"CREATE EDGE Mother FROM (SELECT FROM God WHERE name = \\'Héra\\') TO (SELECT FROM God WHERE name = \\'Arès\\')\")\\nclient.command(\"CREATE EDGE Sibling FROM (SELECT FROM God WHERE name = \\'Héra\\') TO (SELECT FROM God WHERE name = \\'Zeus\\')\")\\nclient.command(\"CREATE EDGE Sibling FROM (SELECT FROM God WHERE name = \\'Poséidon\\') TO (SELECT FROM God WHERE name = \\'Zeus\\')\")'"
      ]
     },
     "execution_count": 15,
     "metadata": {},
     "output_type": "execute_result"
    }
   ],
   "source": [
    "\"\"\"client.command(\"CREATE EDGE Sibling FROM (SELECT FROM God WHERE name = 'Zeus') TO (SELECT FROM God WHERE name = 'Héra')\")\n",
    "client.command(\"CREATE EDGE Father FROM (SELECT FROM God WHERE name = 'Zeus') TO (SELECT FROM God WHERE name = 'Arès')\")\n",
    "client.command(\"CREATE EDGE Father FROM (SELECT FROM God WHERE name = 'Zeus') TO (SELECT FROM God WHERE name = 'Athena')\")\n",
    "client.command(\"CREATE EDGE Mother FROM (SELECT FROM God WHERE name = 'Héra') TO (SELECT FROM God WHERE name = 'Arès')\")\n",
    "client.command(\"CREATE EDGE Sibling FROM (SELECT FROM God WHERE name = 'Héra') TO (SELECT FROM God WHERE name = 'Zeus')\")\n",
    "client.command(\"CREATE EDGE Sibling FROM (SELECT FROM God WHERE name = 'Poséidon') TO (SELECT FROM God WHERE name = 'Zeus')\")\"\"\""
   ]
  },
  {
   "cell_type": "code",
   "execution_count": 16,
   "metadata": {},
   "outputs": [],
   "source": [
    "# the edges to create as a list of dictionaries\n",
    "edges = [\n",
    "    {\"type\": \"Sibling\", \"from\": \"Zeus\", \"to\": \"Héra\"},\n",
    "    {\"type\": \"Father\", \"from\": \"Zeus\", \"to\": \"Arès\"},\n",
    "    {\"type\": \"Father\", \"from\": \"Zeus\", \"to\": \"Athena\"},\n",
    "    {\"type\": \"Mother\", \"from\": \"Héra\", \"to\": \"Arès\"},\n",
    "    {\"type\": \"Sibling\", \"from\": \"Héra\", \"to\": \"Zeus\"},\n",
    "    {\"type\": \"Sibling\", \"from\": \"Poséidon\", \"to\": \"Zeus\"}\n",
    "]\n",
    "\n",
    "for edge in edges:\n",
    "    query = f\"CREATE EDGE {edge['type']} FROM (SELECT FROM God WHERE name = '{edge['from']}') TO (SELECT FROM God WHERE name = '{edge['to']}')\"\n",
    "    client.command(query)\n"
   ]
  },
  {
   "cell_type": "markdown",
   "metadata": {},
   "source": [
    "### Looking for data"
   ]
  },
  {
   "cell_type": "markdown",
   "metadata": {},
   "source": [
    "**Q:** Using [out()](http://orientdb.com/docs/last/Tutorial-Working-with-graphs.html#querying-graphs) function, display all vertices connected and outgoing from Zeus.\n",
    "\n",
    "You should use the EXPAND() special function to transform the vertex collection in the result-set by expanding it, making the results more readable."
   ]
  },
  {
   "cell_type": "code",
   "execution_count": 17,
   "metadata": {},
   "outputs": [
    {
     "name": "stdout",
     "output_type": "stream",
     "text": [
      "{'@God':{'name': 'Arès', 'symbol': 'weapons', 'in_Father': <pyorient.otypes.OrientBinaryObject object at 0x0000027ED5495588>, 'in_Mother': <pyorient.otypes.OrientBinaryObject object at 0x0000027ED5495848>},'version':3,'rid':'#37:0'}\n",
      "{'@God':{'name': 'Athena', 'symbol': 'helmet', 'in_Father': <pyorient.otypes.OrientBinaryObject object at 0x0000027ED548FC88>},'version':2,'rid':'#36:0'}\n",
      "{'@God':{'name': 'Poséidon', 'symbol': 'trident', 'in_Sibling': <pyorient.otypes.OrientBinaryObject object at 0x0000027ED5498188>, 'out_Sibling': <pyorient.otypes.OrientBinaryObject object at 0x0000027ED5498208>},'version':3,'rid':'#35:0'}\n",
      "{'@God':{'name': 'Héra', 'symbol': 'tiara', 'in_Sibling': <pyorient.otypes.OrientBinaryObject object at 0x0000027ED5498408>, 'out_Mother': <pyorient.otypes.OrientBinaryObject object at 0x0000027ED5498488>, 'out_Sibling': <pyorient.otypes.OrientBinaryObject object at 0x0000027ED5498508>},'version':4,'rid':'#34:0'}\n"
     ]
    }
   ],
   "source": [
    "result = client.command(\"SELECT expand(out()) FROM God WHERE name = 'Zeus'\")\n",
    "for record in result:\n",
    "    print(record)"
   ]
  },
  {
   "cell_type": "markdown",
   "metadata": {},
   "source": [
    "**Q:** Display all vertices which got a father (the vertices which are the destination of an arc whose kind attribute is father).\n",
    "\n",
    "_Hint: You can notice that we use the field `in` the arc, and not the function `in()` which applies to vertices._"
   ]
  },
  {
   "cell_type": "code",
   "execution_count": 18,
   "metadata": {},
   "outputs": [
    {
     "name": "stdout",
     "output_type": "stream",
     "text": [
      "{'@God':{'in_Sibling': <pyorient.otypes.OrientBinaryObject object at 0x0000027ED54988C8>, 'out_Father': <pyorient.otypes.OrientBinaryObject object at 0x0000027ED5498948>, 'out_Sibling': <pyorient.otypes.OrientBinaryObject object at 0x0000027ED54989C8>, 'name': 'Zeus', 'symbol': 'thunder'},'version':7,'rid':'#33:0'}\n",
      "{'@God':{'in_Sibling': <pyorient.otypes.OrientBinaryObject object at 0x0000027ED5498C08>, 'out_Father': <pyorient.otypes.OrientBinaryObject object at 0x0000027ED5498C88>, 'out_Sibling': <pyorient.otypes.OrientBinaryObject object at 0x0000027ED5498D08>, 'name': 'Zeus', 'symbol': 'thunder'},'version':7,'rid':'#33:0'}\n"
     ]
    }
   ],
   "source": [
    "result = client.command(\"SELECT expand(in('Father')) FROM God\")\n",
    "for record in result:\n",
    "    print(record)"
   ]
  },
  {
   "cell_type": "markdown",
   "metadata": {},
   "source": [
    "**Q:** As in SQL, the operator `in` used in a clause `where` allows to restrict the possible values with an embedded query _(where ... in (select ...))_. \n",
    "\n",
    "Display the mothers, by displaying the vertices where an outgoing arc is part of the arcs where kind is a mother."
   ]
  },
  {
   "cell_type": "code",
   "execution_count": 19,
   "metadata": {},
   "outputs": [
    {
     "name": "stdout",
     "output_type": "stream",
     "text": [
      "Name: Héra\n"
     ]
    }
   ],
   "source": [
    "query = \"\"\"\n",
    "SELECT * \n",
    "FROM God \n",
    "WHERE @rid IN (SELECT out FROM Mother)\n",
    "\"\"\"\n",
    "mothers = client.command(query)\n",
    "\n",
    "for mother in mothers:\n",
    "    print(f\"Name: {mother.oRecordData.get('name')}\")\n"
   ]
  },
  {
   "cell_type": "markdown",
   "metadata": {},
   "source": [
    "**Q:** Display the brothers and sisters of Zeus (the destination summits of an arc whose kind is sibling and whose original summit is Zeus)."
   ]
  },
  {
   "cell_type": "code",
   "execution_count": 20,
   "metadata": {},
   "outputs": [
    {
     "name": "stdout",
     "output_type": "stream",
     "text": [
      "{'@God':{'name': 'Poséidon', 'symbol': 'trident', 'in_Sibling': <pyorient.otypes.OrientBinaryObject object at 0x0000027ED549A688>, 'out_Sibling': <pyorient.otypes.OrientBinaryObject object at 0x0000027ED549A708>},'version':3,'rid':'#35:0'}\n",
      "{'@God':{'name': 'Héra', 'symbol': 'tiara', 'in_Sibling': <pyorient.otypes.OrientBinaryObject object at 0x0000027ED549A908>, 'out_Mother': <pyorient.otypes.OrientBinaryObject object at 0x0000027ED549A988>, 'out_Sibling': <pyorient.otypes.OrientBinaryObject object at 0x0000027ED549AA08>},'version':4,'rid':'#34:0'}\n"
     ]
    }
   ],
   "source": [
    "result = client.command(\"SELECT expand(out('Sibling')) FROM God WHERE name = 'Zeus'\")\n",
    "for record in result:\n",
    "    print(record)"
   ]
  },
  {
   "cell_type": "markdown",
   "metadata": {},
   "source": [
    "## Modeling a Product Recommendation System"
   ]
  },
  {
   "cell_type": "markdown",
   "metadata": {},
   "source": [
    "You are currently modeling the data of a product recommendation system with OrientDB.\n",
    "\n",
    "The main purpose of such a system is to answer the question \"which products were purchased by their people who purchased product X? »\n",
    "\n",
    "Purchased products have only one name field. They are purchased by people who have a nickname.\n",
    "\n",
    "When a person buys a product, the date of purchase is stored. \n",
    "\n",
    "Instead of working with \"anonymous\" vertices and arcs, you will use classes. The `create class` command allows you to create custom classes.\n",
    "\n",
    "The vertex classes must extend V, the arc classes must extend E."
   ]
  },
  {
   "cell_type": "markdown",
   "metadata": {},
   "source": [
    "**Q:** Create an `eCommerce` database, and the necessary classes to model the system.\n",
    "\n",
    "PS : you can view all classes in the database with :\n",
    "\n",
    "```python\n",
    "for name in client.command(\"SELECT name FROM (SELECT expand(classes) FROM metadata:schema)\"):\n",
    "    print(name)\n",
    "```"
   ]
  },
  {
   "cell_type": "code",
   "execution_count": 21,
   "metadata": {},
   "outputs": [],
   "source": [
    "# create eCommerce db\n",
    "client.db_create(\"eCommerce\", pyorient.DB_TYPE_GRAPH, pyorient.STORAGE_TYPE_MEMORY)"
   ]
  },
  {
   "cell_type": "code",
   "execution_count": 22,
   "metadata": {},
   "outputs": [
    {
     "name": "stdout",
     "output_type": "stream",
     "text": [
      "{{'name': 'OTriggered'},'version':0,'rid':'#-2:0'}\n",
      "{{'name': 'OUser'},'version':0,'rid':'#-2:1'}\n",
      "{{'name': 'ORole'},'version':0,'rid':'#-2:2'}\n",
      "{{'name': 'E'},'version':0,'rid':'#-2:3'}\n",
      "{{'name': 'ORestricted'},'version':0,'rid':'#-2:4'}\n",
      "{{'name': 'OIdentity'},'version':0,'rid':'#-2:5'}\n",
      "{{'name': 'OFunction'},'version':0,'rid':'#-2:6'}\n",
      "{{'name': 'OSequence'},'version':0,'rid':'#-2:7'}\n",
      "{{'name': 'V'},'version':0,'rid':'#-2:8'}\n",
      "{{'name': 'OSchedule'},'version':0,'rid':'#-2:9'}\n"
     ]
    }
   ],
   "source": [
    "for name in client.command(\"SELECT name FROM (SELECT expand(classes) FROM metadata:schema)\"):\n",
    "    print(name)"
   ]
  },
  {
   "cell_type": "markdown",
   "metadata": {},
   "source": [
    "**Q:** Create the following products: `spaghetti`, `bolognese sauce`, `cheese`, `apple`."
   ]
  },
  {
   "cell_type": "code",
   "execution_count": 23,
   "metadata": {},
   "outputs": [
    {
     "data": {
      "text/plain": [
       "[<pyorient.otypes.OrientRecord at 0x27ed549ad88>]"
      ]
     },
     "execution_count": 23,
     "metadata": {},
     "output_type": "execute_result"
    }
   ],
   "source": [
    "# Create the following products: `spaghetti`, `bolognese sauce`, `cheese`, `apple`.\n",
    "client.command(\"CREATE CLASS Product extends V\")\n",
    "client.command(\"CREATE VERTEX Product SET name = 'spaghetti'\")\n",
    "client.command(\"CREATE VERTEX Product SET name = 'bolognese sauce'\")\n",
    "client.command(\"CREATE VERTEX Product SET name = 'cheese'\")\n",
    "client.command(\"CREATE VERTEX Product SET name = 'apple'\")"
   ]
  },
  {
   "cell_type": "markdown",
   "metadata": {},
   "source": [
    "**Q:** Create the following people: `peter`, `meredith`."
   ]
  },
  {
   "cell_type": "code",
   "execution_count": 24,
   "metadata": {},
   "outputs": [
    {
     "data": {
      "text/plain": [
       "[<pyorient.otypes.OrientRecord at 0x27ed54a5dc8>]"
      ]
     },
     "execution_count": 24,
     "metadata": {},
     "output_type": "execute_result"
    }
   ],
   "source": [
    "client.command(\"CREATE CLASS Person extends V\")\n",
    "client.command(\"CREATE VERTEX Person SET name = 'peter'\")\n",
    "client.command(\"CREATE VERTEX Person SET name = 'meredith'\")"
   ]
  },
  {
   "cell_type": "markdown",
   "metadata": {},
   "source": [
    "**Q:** Create the following purchases: \n",
    "- peter > spaghetti + cheese on 20/01/2016 \n",
    "- meredith > cheese + apple + bolognese sauce on 22/01/2016\n",
    "- peter > spaghetti + bolognese sauce on 27/01/2016\n"
   ]
  },
  {
   "cell_type": "code",
   "execution_count": 25,
   "metadata": {},
   "outputs": [
    {
     "data": {
      "text/plain": [
       "[<pyorient.otypes.OrientRecord at 0x27ed54a5308>]"
      ]
     },
     "execution_count": 25,
     "metadata": {},
     "output_type": "execute_result"
    }
   ],
   "source": [
    "\n",
    "# - peter > spaghetti + cheese on 20/01/2016\n",
    "client.command(\"CREATE EDGE Bought FROM (SELECT FROM Person WHERE name = 'peter') TO (SELECT FROM Product WHERE name = 'spaghetti') SET date = '20/01/2016'\")\n",
    "client.command(\"CREATE EDGE Bought FROM (SELECT FROM Person WHERE name = 'peter') TO (SELECT FROM Product WHERE name = 'cheese') SET date = '20/01/2016'\")\n",
    "# - meredith > cheese + apple + bolognese sauce on 22/01/2016\n",
    "client.command(\"CREATE EDGE Bought FROM (SELECT FROM Person WHERE name = 'meredith') TO (SELECT FROM Product WHERE name = 'cheese') SET date = '22/01/2016'\")\n",
    "client.command(\"CREATE EDGE Bought FROM (SELECT FROM Person WHERE name = 'meredith') TO (SELECT FROM Product WHERE name = 'apple') SET date = '22/01/2016'\")\n",
    "client.command(\"CREATE EDGE Bought FROM (SELECT FROM Person WHERE name = 'meredith') TO (SELECT FROM Product WHERE name = 'bolognese sauce') SET date = '22/01/2016'\")\n",
    "# - peter > spaghetti + bolognese sauce on 27/01/2016\n",
    "client.command(\"CREATE EDGE Bought FROM (SELECT FROM Person WHERE name = 'peter') TO (SELECT FROM Product WHERE name = 'spaghetti') SET date = '27/01/2016'\")\n",
    "client.command(\"CREATE EDGE Bought FROM (SELECT FROM Person WHERE name = 'peter') TO (SELECT FROM Product WHERE name = 'bolognese sauce') SET date = '27/01/2016'\")"
   ]
  },
  {
   "cell_type": "markdown",
   "metadata": {},
   "source": [
    "**Q:** Who bought Bolognese sauce?"
   ]
  },
  {
   "cell_type": "code",
   "execution_count": 26,
   "metadata": {},
   "outputs": [
    {
     "name": "stdout",
     "output_type": "stream",
     "text": [
      "{'@Person':{'out_Bought': <pyorient.otypes.OrientBinaryObject object at 0x0000027ED54AF0C8>, 'name': 'meredith'},'version':4,'rid':'#46:0'}\n",
      "{'@Person':{'out_Bought': <pyorient.otypes.OrientBinaryObject object at 0x0000027ED54AF2C8>, 'name': 'peter'},'version':5,'rid':'#45:0'}\n"
     ]
    }
   ],
   "source": [
    "result=client.command(\"SELECT expand(in('Bought')) FROM Product WHERE name = 'bolognese sauce'\")\n",
    "for record in result:\n",
    "    print(record)"
   ]
  },
  {
   "cell_type": "markdown",
   "metadata": {},
   "source": [
    "**Q:** It is possible to link the `out` and `in` navigation functions. What products are purchased with Bolognese sauce? "
   ]
  },
  {
   "cell_type": "code",
   "execution_count": 28,
   "metadata": {},
   "outputs": [
    {
     "name": "stdout",
     "output_type": "stream",
     "text": [
      "{'@Product':{'in_Bought': <pyorient.otypes.OrientBinaryObject object at 0x0000027ED548BF08>, 'name': 'cheese'},'version':3,'rid':'#35:0'}\n",
      "{'@Product':{'name': 'apple', 'in_Bought': <pyorient.otypes.OrientBinaryObject object at 0x0000027ED548BC48>},'version':2,'rid':'#36:0'}\n",
      "{'@Product':{'in_Bought': <pyorient.otypes.OrientBinaryObject object at 0x0000027ED548B248>, 'name': 'bolognese sauce'},'version':3,'rid':'#34:0'}\n",
      "{'@Product':{'in_Bought': <pyorient.otypes.OrientBinaryObject object at 0x0000027ED5EF1BC8>, 'name': 'spaghetti'},'version':3,'rid':'#33:0'}\n",
      "{'@Product':{'in_Bought': <pyorient.otypes.OrientBinaryObject object at 0x0000027ED5EF1AC8>, 'name': 'cheese'},'version':3,'rid':'#35:0'}\n",
      "{'@Product':{'in_Bought': <pyorient.otypes.OrientBinaryObject object at 0x0000027ED5EF8508>, 'name': 'spaghetti'},'version':3,'rid':'#33:0'}\n",
      "{'@Product':{'in_Bought': <pyorient.otypes.OrientBinaryObject object at 0x0000027ED5EF8148>, 'name': 'bolognese sauce'},'version':3,'rid':'#34:0'}\n"
     ]
    }
   ],
   "source": [
    "result = client.command(\"SELECT expand(in().out()) FROM Product WHERE name = 'bolognese sauce'\")\n",
    "for record in result:\n",
    "    print(record)"
   ]
  },
  {
   "cell_type": "markdown",
   "metadata": {},
   "source": [
    "## Postquisites"
   ]
  },
  {
   "cell_type": "markdown",
   "metadata": {},
   "source": [
    "Since we create databases in memory, they get destroyed on server shutdown."
   ]
  }
 ],
 "metadata": {
  "kernelspec": {
   "display_name": "nosql",
   "language": "python",
   "name": "python3"
  },
  "language_info": {
   "codemirror_mode": {
    "name": "ipython",
    "version": 3
   },
   "file_extension": ".py",
   "mimetype": "text/x-python",
   "name": "python",
   "nbconvert_exporter": "python",
   "pygments_lexer": "ipython3",
   "version": "3.7.12"
  }
 },
 "nbformat": 4,
 "nbformat_minor": 2
}
